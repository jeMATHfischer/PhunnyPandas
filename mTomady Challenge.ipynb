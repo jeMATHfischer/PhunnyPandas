{
 "cells": [
  {
   "cell_type": "code",
   "execution_count": 7,
   "metadata": {
    "scrolled": true
   },
   "outputs": [],
   "source": [
    "import pandas as pd\n",
    "from urllib import request\n",
    "import json\n",
    "from pandas.io.json import json_normalize\n",
    "\n",
    "url = 'https://api.production.mtomady.com/hack_hpi/claims?page=1'\n",
    "headers = {}\n",
    "\n",
    "r = request.Request(url, headers = headers)\n",
    "response = request.urlopen(r)\n",
    "elevations = response.read()\n",
    "data = json.loads(elevations)\n",
    "\n",
    "for i in range(1,data['meta']['total_pages']+1):\n",
    "    url = 'https://api.production.mtomady.com/hack_hpi/claims?page={}'.format(i)\n",
    "    headers = {}\n",
    "\n",
    "    r = request.Request(url, headers = headers)\n",
    "    response = request.urlopen(r)\n",
    "    elevations = response.read()\n",
    "    data = json.loads(elevations)\n",
    "    \n",
    "    df_1 = json_normalize(data['claims'])\n",
    "\n",
    "    if i == 1:\n",
    "        df_2 = df_1\n",
    "    else:\n",
    "        df_2 = pd.concat([df_2,df_1], ignore_index=True)"
   ]
  },
  {
   "cell_type": "code",
   "execution_count": 9,
   "metadata": {},
   "outputs": [],
   "source": [
    "for index, item in enumerate(df_2.applied_treatments[df_2.applied_treatments.apply(lambda x:len(x)) > 0]):\n",
    "    if index == 0:\n",
    "        name_ind = list(df_2[df_2.applied_treatments.apply(lambda x:len(x)) > 0].loc[:,'health_care_provider.name'].index)[index]\n",
    "        for i, d in enumerate(item):\n",
    "            if i == 0:\n",
    "                a = json_normalize(d)\n",
    "                exploded_df_treat = a.join(pd.DataFrame([df_2[df_2.applied_treatments.apply(lambda x:len(x)) > 0].loc[name_ind,'health_care_provider.name']], columns = ['health_care_provider.name'], index = [0]))\n",
    "            else:\n",
    "                a = json_normalize(d)\n",
    "                a = a.join(pd.DataFrame([df_2[df_2.applied_treatments.apply(lambda x:len(x)) > 0].loc[name_ind,'health_care_provider.name']], columns = ['health_care_provider.name']))\n",
    "                exploded_df_treat = pd.concat([exploded_df_treat,a])\n",
    "\n",
    "    else:\n",
    "        name_ind = list(df_2[df_2.applied_treatments.apply(lambda x:len(x)) > 0].loc[:,'health_care_provider.name'].index)[index]\n",
    "        for i, d in enumerate(item):\n",
    "                a = json_normalize(d)\n",
    "                a = a.join(pd.DataFrame([df_2[df_2.applied_treatments.apply(lambda x:len(x)) > 0].loc[name_ind,'health_care_provider.name']], columns = ['health_care_provider.name']))\n",
    "                exploded_df_treat = pd.concat([exploded_df_treat,a])\n",
    "\n",
    "exploded_df_treat['total_amount'] = pd.to_numeric( exploded_df_treat['total_amount'])\n"
   ]
  },
  {
   "cell_type": "markdown",
   "metadata": {},
   "source": [
    "# Prediktor & Reminder"
   ]
  },
  {
   "cell_type": "code",
   "execution_count": 19,
   "metadata": {},
   "outputs": [],
   "source": [
    "from twilio.rest import Client\n",
    "def Send_to_Phone(msg):# put your twilio credentials here\n",
    "    account_sid = no.\n",
    "    auth_token = no.\n",
    "    client = Client(account_sid, auth_token)\n",
    "\n",
    "    response = client.messages.create(\n",
    "                                to= no.,\n",
    "                                from_= no.,\n",
    "                                body= msg,\n",
    "    )"
   ]
  },
  {
   "cell_type": "code",
   "execution_count": 20,
   "metadata": {},
   "outputs": [],
   "source": [
    "import pandas as pd\n",
    "import numpy as np\n",
    "from urllib import request\n",
    "import json\n",
    "from pandas.io.json import json_normalize\n",
    "from datetime import date\n",
    "import time\n",
    "\n",
    "def data_framer(list_o_url, headers):\n",
    "    for url in list_o_url:\n",
    "        headers = headers\n",
    "\n",
    "        r = request.Request(url, headers = headers)\n",
    "        response = request.urlopen(r)\n",
    "        elevations = response.read()\n",
    "        data = json.loads(elevations)\n",
    "        \n",
    "        df_1 = json_normalize(data['claims'])\n",
    "        if i == 1:\n",
    "            df = df_1\n",
    "        else:\n",
    "            df = pd.concat([df_2,df_1], ignore_index=True)\n",
    "    return df\n",
    "    \n",
    "def last_treatment(df):\n",
    "    df['submitted_at']=pd.to_datetime(df['submitted_at']) \n",
    "    df_last_treatment = df[df['demanded_amount']>1000].groupby('patient_id')['submitted_at'].max() #TODO Das muss genauer gehen\n",
    "    return df_last_treatment\n",
    "   \n",
    "def msg_token_builder(treatment, timeframe):\n",
    "    msg_token = \"Veuillez prendre rendez-vous pour {} dans les {} prochaines semaines.\".format(treatment, timeframe)\n",
    "    return msg_token\n",
    "\n",
    "def reminder(df): #urls, header):\n",
    "#     df = data_framer(urls, header)\n",
    "    \n",
    "    today = date.today()\n",
    "    patient_ID = last_treatment(df)[(today - pd.to_datetime(last_treatment(df)).apply(lambda x: x.date())).dt.days > 50].index\n",
    "    msg_token = pd.DataFrame([msg_token_builder('échographie',3) for item in patient_ID], columns = ['msg_tokens'])\n",
    "    \n",
    "    for i in range(msg_token.shape[0]):\n",
    "        time.sleep(0.5)\n",
    "        if i == 0:\n",
    "            print('Send to {} message \\\"{}\\\".'.format( patient_ID[i], msg_token.loc[i,\"msg_tokens\"]))# Sollte send Befehl werden\n",
    "            Send_to_Phone(msg_token.loc[i,\"msg_tokens\"])"
   ]
  }
 ],
 "metadata": {
  "kernelspec": {
   "display_name": "Python 3",
   "language": "python",
   "name": "python3"
  },
  "language_info": {
   "codemirror_mode": {
    "name": "ipython",
    "version": 3
   },
   "file_extension": ".py",
   "mimetype": "text/x-python",
   "name": "python",
   "nbconvert_exporter": "python",
   "pygments_lexer": "ipython3",
   "version": "3.6.8"
  }
 },
 "nbformat": 4,
 "nbformat_minor": 2
}
