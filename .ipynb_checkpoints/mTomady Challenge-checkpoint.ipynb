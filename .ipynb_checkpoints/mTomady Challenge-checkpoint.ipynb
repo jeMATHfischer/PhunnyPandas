{
 "cells": [
  {
   "cell_type": "code",
   "execution_count": 34,
   "metadata": {},
   "outputs": [
    {
     "name": "stdout",
     "output_type": "stream",
     "text": [
      "<class 'dict'>\n"
     ]
    },
    {
     "ename": "AttributeError",
     "evalue": "'list' object has no attribute 'keys'",
     "output_type": "error",
     "traceback": [
      "\u001b[0;31m---------------------------------------------------------------------------\u001b[0m",
      "\u001b[0;31mAttributeError\u001b[0m                            Traceback (most recent call last)",
      "\u001b[0;32m<ipython-input-34-30d472fb6bd7>\u001b[0m in \u001b[0;36m<module>\u001b[0;34m()\u001b[0m\n\u001b[1;32m     15\u001b[0m \u001b[0;34m\u001b[0m\u001b[0m\n\u001b[1;32m     16\u001b[0m df = pd.DataFrame.from_dict({(i,j): d[i][j] \n\u001b[0;32m---> 17\u001b[0;31m                            \u001b[0;32mfor\u001b[0m \u001b[0mi\u001b[0m \u001b[0;32min\u001b[0m \u001b[0md\u001b[0m\u001b[0;34m.\u001b[0m\u001b[0mkeys\u001b[0m\u001b[0;34m(\u001b[0m\u001b[0;34m)\u001b[0m\u001b[0;34m\u001b[0m\u001b[0;34m\u001b[0m\u001b[0m\n\u001b[0m\u001b[1;32m     18\u001b[0m                            for j in d[i].keys()},\n\u001b[1;32m     19\u001b[0m                        orient='index')\n",
      "\u001b[0;32m<ipython-input-34-30d472fb6bd7>\u001b[0m in \u001b[0;36m<dictcomp>\u001b[0;34m(.0)\u001b[0m\n\u001b[1;32m     16\u001b[0m df = pd.DataFrame.from_dict({(i,j): d[i][j] \n\u001b[1;32m     17\u001b[0m                            \u001b[0;32mfor\u001b[0m \u001b[0mi\u001b[0m \u001b[0;32min\u001b[0m \u001b[0md\u001b[0m\u001b[0;34m.\u001b[0m\u001b[0mkeys\u001b[0m\u001b[0;34m(\u001b[0m\u001b[0;34m)\u001b[0m\u001b[0;34m\u001b[0m\u001b[0;34m\u001b[0m\u001b[0m\n\u001b[0;32m---> 18\u001b[0;31m                            for j in d[i].keys()},\n\u001b[0m\u001b[1;32m     19\u001b[0m                        orient='index')\n\u001b[1;32m     20\u001b[0m \u001b[0;34m\u001b[0m\u001b[0m\n",
      "\u001b[0;31mAttributeError\u001b[0m: 'list' object has no attribute 'keys'"
     ]
    }
   ],
   "source": [
    "import requests\n",
    "import pandas as pd\n",
    "import io\n",
    "\n",
    "url = 'https://api.production.mtomady.com/hack_hpi/claims?page=1'\n",
    "payload = {}\n",
    "headers = {}\n",
    "r = requests.request('GET', url, headers = headers, data = payload, allow_redirects=False)\n",
    "\n",
    "#df = pd.read_json(io.StringIO(response.decode('utf-8')))\n",
    "#print(df.head())\n",
    "\n",
    "d = r.json()\n",
    "print(type(d))\n",
    "\n",
    "df = pd.DataFrame.from_dict({(i,j): d[i][j] \n",
    "                           for i in d.keys() \n",
    "                           for j in d[i].keys()},\n",
    "                       orient='index')\n",
    "\n",
    "print(df.head())"
   ]
  }
 ],
 "metadata": {
  "kernelspec": {
   "display_name": "Python 3",
   "language": "python",
   "name": "python3"
  },
  "language_info": {
   "codemirror_mode": {
    "name": "ipython",
    "version": 3
   },
   "file_extension": ".py",
   "mimetype": "text/x-python",
   "name": "python",
   "nbconvert_exporter": "python",
   "pygments_lexer": "ipython3",
   "version": "3.6.8"
  }
 },
 "nbformat": 4,
 "nbformat_minor": 2
}
